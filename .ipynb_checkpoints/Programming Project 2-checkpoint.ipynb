{
 "cells": [
  {
   "cell_type": "markdown",
   "id": "5aa4a932",
   "metadata": {},
   "source": [
    "# Programming Project 2\n",
    "<p>Author: Zane Brown<br>Version: 1.0<br>CS-150-01<p>"
   ]
  },
  {
   "cell_type": "code",
   "execution_count": 4,
   "id": "f65ced89",
   "metadata": {},
   "outputs": [
    {
     "name": "stdout",
     "output_type": "stream",
     "text": [
      "What do you want to encrypt? zane -\n",
      "What do you want to shift by? (integer) 1\n",
      "You're encrypted message is  abof ~\n"
     ]
    }
   ],
   "source": [
    "alphabet=\"abcdefghijklmnopqrstuvwxyz\"     #Two strings, one with the aplhabet and another for numbers and symbols\n",
    "num='0123456789?/.,:!@#$%^&*_-~'\n",
    "cypher=\"\"                                #Empty string for soon to be encoded message.\n",
    "message=input(\"What do you want to encrypt? \")\n",
    "shift=int(input(\"What do you want to shift by? (integer) \"))    #Will be the amount that we shift the alphabet.\n",
    "\n",
    "for i in message:  #loops through inputted message.    #iterates through inputted message.\n",
    "    if i.lower() in alphabet:\n",
    "        newindex=alphabet.index(i)+shift  # creates the new index from the shift that is inputted.\n",
    "        cypher+=alphabet[newindex%26]    #ensures the index will not be larger than the string.\n",
    "    elif i in num:\n",
    "        newindex=num.index(i)+shift       #same as above but for the numbers and symbols string.\n",
    "        cypher+=num[newindex%26]\n",
    "    else:\n",
    "        cypher+=i                   #will add the spaces into new strings\n",
    "        \n",
    "print(\"You're encrypted message is \",cypher)\n"
   ]
  },
  {
   "cell_type": "code",
   "execution_count": 3,
   "id": "2c68686b",
   "metadata": {},
   "outputs": [
    {
     "name": "stdout",
     "output_type": "stream",
     "text": [
      "Attempt 0:  csy ksx mx\n",
      "Attempt 1:  brx jrw lw\n",
      "Attempt 2:  aqw iqv kv\n",
      "Attempt 3:  zpv hpu ju\n",
      "Attempt 4:  you got it\n",
      "Attempt 5:  xnt fns hs\n",
      "Attempt 6:  wms emr gr\n",
      "Attempt 7:  vlr dlq fq\n",
      "Attempt 8:  ukq ckp ep\n",
      "Attempt 9:  tjp bjo do\n",
      "Attempt 10:  sio ain cn\n",
      "Attempt 11:  rhn zhm bm\n",
      "Attempt 12:  qgm ygl al\n",
      "Attempt 13:  pfl xfk zk\n",
      "Attempt 14:  oek wej yj\n",
      "Attempt 15:  ndj vdi xi\n",
      "Attempt 16:  mci uch wh\n",
      "Attempt 17:  lbh tbg vg\n",
      "Attempt 18:  kag saf uf\n",
      "Attempt 19:  jzf rze te\n",
      "Attempt 20:  iye qyd sd\n",
      "Attempt 21:  hxd pxc rc\n",
      "Attempt 22:  gwc owb qb\n",
      "Attempt 23:  fvb nva pa\n",
      "Attempt 24:  eua muz oz\n",
      "Attempt 25:  dtz lty ny\n"
     ]
    }
   ],
   "source": [
    "code=\"csy ksx mx\"\n",
    "letters=\"abcdefghijklmnopqrstuvwxyz\"\n",
    "\n",
    "for key in range(len(letters)):       #will iterate through the alphabet string.\n",
    "    translated=' '                     #makes the empty string \n",
    "    for symbol in code:            #iterates through the encrypted code \n",
    "        if symbol in letters:         # condition true if the letter in code string is in letters.\n",
    "            num=letters.find(symbol)   #sets num to the index of the letter found in letters.\n",
    "            num=num-key\n",
    "            if num<0:                  #handles if the index is larger than 26 or less than 0\n",
    "                num=num+len(letters)  \n",
    "            translated=translated+letters[num]  #adds the symbol(letter) to the end of the translated string\n",
    "        else:\n",
    "            translated=translated+symbol\n",
    "    print('Attempt %s: %s'%(key, translated))\n",
    "\n"
   ]
  },
  {
   "cell_type": "code",
   "execution_count": null,
   "id": "89515519",
   "metadata": {},
   "outputs": [],
   "source": []
  },
  {
   "cell_type": "code",
   "execution_count": null,
   "id": "c60cdb4c",
   "metadata": {},
   "outputs": [],
   "source": []
  }
 ],
 "metadata": {
  "kernelspec": {
   "display_name": "Python 3",
   "language": "python",
   "name": "python3"
  },
  "language_info": {
   "codemirror_mode": {
    "name": "ipython",
    "version": 3
   },
   "file_extension": ".py",
   "mimetype": "text/x-python",
   "name": "python",
   "nbconvert_exporter": "python",
   "pygments_lexer": "ipython3",
   "version": "3.8.8"
  }
 },
 "nbformat": 4,
 "nbformat_minor": 5
}
